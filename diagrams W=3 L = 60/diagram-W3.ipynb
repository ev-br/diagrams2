{
 "cells": [
  {
   "cell_type": "markdown",
   "metadata": {},
   "source": [
    "# W = 3 L = 60"
   ]
  },
  {
   "cell_type": "code",
   "execution_count": 1,
   "metadata": {},
   "outputs": [],
   "source": [
    "import pandas as pd\n",
    "import numpy as np\n",
    "import matplotlib.pyplot as plt"
   ]
  },
  {
   "cell_type": "code",
   "execution_count": 3,
   "metadata": {},
   "outputs": [],
   "source": [
    "df = pd.read_excel('leg3.xlsx')"
   ]
  },
  {
   "cell_type": "code",
   "execution_count": 4,
   "metadata": {},
   "outputs": [
    {
     "data": {
      "text/html": [
       "<div>\n",
       "<style scoped>\n",
       "    .dataframe tbody tr th:only-of-type {\n",
       "        vertical-align: middle;\n",
       "    }\n",
       "\n",
       "    .dataframe tbody tr th {\n",
       "        vertical-align: top;\n",
       "    }\n",
       "\n",
       "    .dataframe thead th {\n",
       "        text-align: right;\n",
       "    }\n",
       "</style>\n",
       "<table border=\"1\" class=\"dataframe\">\n",
       "  <thead>\n",
       "    <tr style=\"text-align: right;\">\n",
       "      <th></th>\n",
       "      <th>truncation_error</th>\n",
       "      <th>E</th>\n",
       "      <th>Ndown_total</th>\n",
       "      <th>Nup_total</th>\n",
       "      <th>add</th>\n",
       "    </tr>\n",
       "  </thead>\n",
       "  <tbody>\n",
       "    <tr>\n",
       "      <th>0</th>\n",
       "      <td>0.000000e+00</td>\n",
       "      <td>-3.411562</td>\n",
       "      <td>0</td>\n",
       "      <td>1</td>\n",
       "      <td>1</td>\n",
       "    </tr>\n",
       "    <tr>\n",
       "      <th>1</th>\n",
       "      <td>2.775558e-17</td>\n",
       "      <td>-6.815175</td>\n",
       "      <td>0</td>\n",
       "      <td>2</td>\n",
       "      <td>1</td>\n",
       "    </tr>\n",
       "    <tr>\n",
       "      <th>2</th>\n",
       "      <td>7.372575e-18</td>\n",
       "      <td>-10.205564</td>\n",
       "      <td>0</td>\n",
       "      <td>3</td>\n",
       "      <td>1</td>\n",
       "    </tr>\n",
       "    <tr>\n",
       "      <th>3</th>\n",
       "      <td>-1.713378e-16</td>\n",
       "      <td>-13.577489</td>\n",
       "      <td>0</td>\n",
       "      <td>4</td>\n",
       "      <td>1</td>\n",
       "    </tr>\n",
       "    <tr>\n",
       "      <th>4</th>\n",
       "      <td>-2.488660e-17</td>\n",
       "      <td>-16.925758</td>\n",
       "      <td>0</td>\n",
       "      <td>5</td>\n",
       "      <td>1</td>\n",
       "    </tr>\n",
       "  </tbody>\n",
       "</table>\n",
       "</div>"
      ],
      "text/plain": [
       "   truncation_error          E  Ndown_total  Nup_total  add\n",
       "0      0.000000e+00  -3.411562            0          1    1\n",
       "1      2.775558e-17  -6.815175            0          2    1\n",
       "2      7.372575e-18 -10.205564            0          3    1\n",
       "3     -1.713378e-16 -13.577489            0          4    1\n",
       "4     -2.488660e-17 -16.925758            0          5    1"
      ]
     },
     "execution_count": 4,
     "metadata": {},
     "output_type": "execute_result"
    }
   ],
   "source": [
    "df.head()"
   ]
  },
  {
   "cell_type": "markdown",
   "metadata": {},
   "source": [
    "## PP - FP"
   ]
  },
  {
   "cell_type": "code",
   "execution_count": 19,
   "metadata": {},
   "outputs": [],
   "source": [
    "points_1 = list(range(2,19))+list(range(20,180,5))+[179]"
   ]
  },
  {
   "cell_type": "code",
   "execution_count": 20,
   "metadata": {},
   "outputs": [],
   "source": [
    "mu1, h1 = [], []\n",
    "for i in points_1:\n",
    "    mu = (df[(df['Nup_total']==i+1) & (df['Ndown_total']==1)]['E'].values[0] - df[(df['Nup_total']==i) & (df['Ndown_total']==0)]['E'].values[0])/2\n",
    "    h = (df[(df['Nup_total']==i-1) & (df['Ndown_total']==1)]['E'].values[0] - df[(df['Nup_total']==i) & (df['Ndown_total']==0)]['E'].values[0])/(-2)\n",
    "    mu1.append(mu)\n",
    "    h1.append(h)"
   ]
  },
  {
   "cell_type": "markdown",
   "metadata": {},
   "source": [
    "## ED - PP (Досчитать E(106,104))"
   ]
  },
  {
   "cell_type": "code",
   "execution_count": 27,
   "metadata": {},
   "outputs": [],
   "source": [
    "points_2 = list(range(1,53))+list(range(55,105,5))+list(range(110,180,5))+[179]"
   ]
  },
  {
   "cell_type": "code",
   "execution_count": 29,
   "metadata": {},
   "outputs": [],
   "source": [
    "mu2, h2 = [], []\n",
    "for i in points_2:\n",
    "    mu = (df1[(df1['Nup_total']==i+1) & (df1['Ndown_total']==i+1)]['E'].values[0] - df1[(df1['Nup_total']==i) & (df1['Ndown_total']==i)]['E'].values[0])/2\n",
    "    h = (df1[(df1['Nup_total']==i+1) & (df1['Ndown_total']==i-1)]['E'].values[0] - df1[(df1['Nup_total']==i) & (df1['Ndown_total']==i)]['E'].values[0])/2\n",
    "    mu2.append(mu)\n",
    "    h2.append(h)"
   ]
  },
  {
   "cell_type": "markdown",
   "metadata": {},
   "source": [
    "## Прямые линии"
   ]
  },
  {
   "cell_type": "code",
   "execution_count": 30,
   "metadata": {},
   "outputs": [],
   "source": [
    "e11 = df1[(df1['Nup_total']==1) & (df1['Ndown_total']==1)]['E'].values[0]\n",
    "e10 = df1[(df1['Nup_total']==1) & (df1['Ndown_total']==0)]['E'].values[0]\n",
    "\n",
    "def mu(h):\n",
    "    return -h +e10\n",
    "\n",
    "def mu3(h):\n",
    "    return -h - e10\n",
    "\n",
    "h = np.arange(h1[0], 10, 0.1)\n",
    "h3 = np.arange(6.5, 10, 0.1)"
   ]
  },
  {
   "cell_type": "code",
   "execution_count": 33,
   "metadata": {},
   "outputs": [
    {
     "data": {
      "image/png": "[encoded data removed]",
      "text/plain": [
       "<Figure size 864x504 with 1 Axes>"
      ]
     },
     "metadata": {
      "needs_background": "light"
     },
     "output_type": "display_data"
    }
   ],
   "source": [
    "plt.figure(figsize=(12, 7))\n",
    "plt.plot(h1, mu1, '-', color='green')\n",
    "plt.plot(h2, mu2, '-', color='red')\n",
    "plt.axis([0, 8.5, -5, -3.5])\n",
    "plt.axhline(y=(e11/2), color='black', xmax = h1[0]/8.5)\n",
    "plt.axvline(x=h1[0], linestyle=':', color='black')\n",
    "plt.plot(h, mu(h), '-', color = 'blue')\n",
    "plt.plot(h3, mu3(h3), '-', color = 'orange')\n",
    "plt.xlabel('h')\n",
    "plt.ylabel('mu')\n",
    "plt.show()"
   ]
  },
  {
   "cell_type": "code",
   "execution_count": null,
   "metadata": {},
   "outputs": [],
   "source": []
  }
 ],
 "metadata": {
  "kernelspec": {
   "display_name": "Python 3",
   "language": "python",
   "name": "python3"
  },
  "language_info": {
   "codemirror_mode": {
    "name": "ipython",
    "version": 3
   },
   "file_extension": ".py",
   "mimetype": "text/x-python",
   "name": "python",
   "nbconvert_exporter": "python",
   "pygments_lexer": "ipython3",
   "version": "3.8.3"
  }
 },
 "nbformat": 4,
 "nbformat_minor": 4
}
