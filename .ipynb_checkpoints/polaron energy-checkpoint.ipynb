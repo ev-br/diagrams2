{
 "cells": [
  {
   "cell_type": "code",
   "execution_count": 1,
   "metadata": {},
   "outputs": [],
   "source": [
    "import xmltodict\n",
    "import numpy as np\n",
    "import matplotlib.pyplot as plt"
   ]
  },
  {
   "cell_type": "code",
   "execution_count": 2,
   "metadata": {},
   "outputs": [],
   "source": [
    "L = 40\n",
    "t = 1\n",
    "def Ef(N, L, t, tperp):\n",
    "    return -2*t*(np.cos(2 * N * np.pi/L)) - tperp\n",
    "\n",
    "def Ef1(N, L, t, tperp):\n",
    "    return -2*t*(np.cos(2 * N * np.pi/L)) + tperp\n",
    "\n",
    "def En(tperp):\n",
    "    L = 40\n",
    "    t = 1\n",
    "    n = [0]\n",
    "    for b in range(40):\n",
    "        h = b + 1\n",
    "        n.append(h)\n",
    "        n.append(- h)\n",
    "    all_energy = []\n",
    "    for x in range(0, 40):\n",
    "        N = n[x]\n",
    "        all_energy.append(Ef1(N, L, t, tperp))\n",
    "        all_energy.append(Ef(N, L, t, tperp))\n",
    "    all_energy.sort()\n",
    "\n",
    "    summ = 0\n",
    "    s = []\n",
    "    for i in range(len(all_energy)):\n",
    "        summ = summ + all_energy[i]\n",
    "        s.append(summ)\n",
    "\n",
    "    energy2 = []\n",
    "    for j in range(0, len(s) - 2, 2):\n",
    "        energy2.append(s[j])\n",
    "    return energy2\n",
    "\n",
    "\n",
    "folder = [\"t-1/\", \"t-0.5/\", \"t-0.2/\"]\n",
    "def En1(folder):\n",
    "    Energy = [] \n",
    "    path = \"C:/Users/Mindelly/Documents/GitHub/diagrams2/w2/\" + folder\n",
    "    for i in range(1, 80, 2):\n",
    "        file_name = str(i) +\"-1\" + \".task1.out.xml\"\n",
    "        with open(path + file_name) as xml_file:\n",
    "            data_dict = xmltodict.parse(xml_file.read())\n",
    "        Energy.append(float(data_dict['SIMULATION']['EIGENSTATES']['EIGENSTATE']['SCALAR_AVERAGE'][0]['MEAN']))\n",
    "    return Energy\n",
    "\n",
    "def pol(folder, n, tperp):\n",
    "    m = []\n",
    "    for i in range(0, len(n)):\n",
    "         m.append(En1(folder)[i] - En(tperp)[i] - En(tperp)[0])\n",
    "    return m"
   ]
  },
  {
   "cell_type": "code",
   "execution_count": 4,
   "metadata": {},
   "outputs": [
    {
     "data": {
      "image/png": "[encoded data removed]",
      "text/plain": [
       "<Figure size 432x288 with 1 Axes>"
      ]
     },
     "metadata": {
      "needs_background": "light"
     },
     "output_type": "display_data"
    }
   ],
   "source": [
    "n = np.arange(1, 79, 2)\n",
    "folder = [\"t-1/\", \"t-0.5/\", \"t-0.2/\"]\n",
    "plt.plot(n, pol(folder[0], n, 1), 'o--', label='t=1', c='darkblue')\n",
    "plt.title('$t_{\\perp} = 1$')\n",
    "plt.show()\n",
    "plt.savefig('pol_tperp1.png')\n",
    "plt.plot(n, pol(folder[1], n, 0.5), 'o--', label='t=0.5', c='darkred')\n",
    "plt.title('$t_{\\perp} = 0.5$')\n",
    "plt.savefig('pol_tperp05.png')\n",
    "plt.plot(n, pol(folder[2], n, 0.2), 'o--', label='t=0.2', c='darkgreen')\n",
    "plt.title('$t_{\\perp} = 0.2$')\n",
    "plt.savefig('pol_tperp02.png')"
   ]
  },
  {
   "cell_type": "code",
   "execution_count": 37,
   "metadata": {},
   "outputs": [],
   "source": [
    "En_N0 = [] # (3, 0)...(39, 0)\n",
    "En_N1 = [] #\n",
    "path = \"C:/Users/Mindelly/Documents/GitHub/Diagrams/\"\n",
    "for i in range(1, 38):\n",
    "    file_name = \"point4.\" +str(i) + \".task1.out.xml\"\n",
    "    with open(path + file_name) as xml_file:\n",
    "        data_dict = xmltodict.parse(xml_file.read())\n",
    "    En_N0.append(float(data_dict['SIMULATION']['EIGENSTATES']['EIGENSTATE']['SCALAR_AVERAGE'][0]['MEAN']))\n",
    "for i in range(0, 37):\n",
    "    file_name = \"point5.\" +str(i) + \".task1.out.xml\"\n",
    "    with open(path + file_name) as xml_file:\n",
    "        data_dict = xmltodict.parse(xml_file.read())\n",
    "    En_N1.append(float(data_dict['SIMULATION']['EIGENSTATES']['EIGENSTATE']['SCALAR_AVERAGE'][0]['MEAN']))"
   ]
  },
  {
   "cell_type": "code",
   "execution_count": 38,
   "metadata": {},
   "outputs": [
    {
     "data": {
      "image/png": "[encoded data removed]",
      "text/plain": [
       "<Figure size 432x288 with 1 Axes>"
      ]
     },
     "metadata": {
      "needs_background": "light"
     },
     "output_type": "display_data"
    }
   ],
   "source": [
    "n = np.arange(1, 38)\n",
    "m = []\n",
    "for i in range(0, len(n)):\n",
    "     m.append(En_N1[i] - En_N0[i] + 1.9941315938965789)\n",
    "plt.plot(n, m, 'o--')\n",
    "plt.show()"
   ]
  },
  {
   "cell_type": "code",
   "execution_count": null,
   "metadata": {},
   "outputs": [],
   "source": []
  }
 ],
 "metadata": {
  "kernelspec": {
   "display_name": "Python 3",
   "language": "python",
   "name": "python3"
  },
  "language_info": {
   "codemirror_mode": {
    "name": "ipython",
    "version": 3
   },
   "file_extension": ".py",
   "mimetype": "text/x-python",
   "name": "python",
   "nbconvert_exporter": "python",
   "pygments_lexer": "ipython3",
   "version": "3.7.4"
  }
 },
 "nbformat": 4,
 "nbformat_minor": 4
}
