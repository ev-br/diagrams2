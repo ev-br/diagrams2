{
 "cells": [
  {
   "cell_type": "code",
   "execution_count": 134,
   "metadata": {},
   "outputs": [],
   "source": [
    "import numpy as np\n",
    "        \n",
    "def populate_auxiliary(Nup, Ndown, Nx, Ny, initial = '0'):\n",
    "    \n",
    "    data = [initial for _ in range(Nx*Ny)]\n",
    "    \n",
    "    assert Nup <= Nx*Ny and Ndown <= Nx*Ny\n",
    "    \n",
    "    Nmin = Nup if Nup <= Ndown else Ndown\n",
    "    dominant = 'Up' if Nup >= Ndown else 'Dn'\n",
    "    max_pos = 0\n",
    "    \n",
    "    if Nup >= Ndown:\n",
    "        to_start = 'Dn' if Nup+Ndown<Nx*Ny else 'Up'\n",
    "    else:\n",
    "        to_start = 'Up' if Nup+Ndown<Nx*Ny else 'Dn'\n",
    "\n",
    "    for i in range(Ny):\n",
    "        if to_start == 'Up':\n",
    "            to_start = 'Dn'\n",
    "            to_proceed = 'Up'\n",
    "        else:\n",
    "            to_start = 'Up'\n",
    "            to_proceed = 'Dn'\n",
    "        for k, j in enumerate(range(i, 2*Nmin, Ny)):\n",
    "\n",
    "            data[j] = to_start if k%2==0 else to_proceed\n",
    "            max_pos = j if j > max_pos else max_pos\n",
    "\n",
    "            if data[j] == 'Up':\n",
    "                Nup-=1\n",
    "            else:\n",
    "                Ndown-=1\n",
    "\n",
    "\n",
    "    for i in range(max_pos+1, max_pos+max(Nup,Ndown)+1):\n",
    "            data[i] = dominant\n",
    "            \n",
    "    \n",
    "    return np.array(data).reshape(Nx,Ny).T"
   ]
  },
  {
   "cell_type": "code",
   "execution_count": 135,
   "metadata": {},
   "outputs": [],
   "source": [
    "def populate_ladder(Nup, Ndown, Nx, Ny):\n",
    "    assert Nup <= Nx*Ny and Ndown <= Nx*Ny\n",
    "    if Nup+Ndown <= Nx*Ny:\n",
    "        return populate_auxiliary(Nup, Ndown, Nx, Ny, '0')\n",
    "    else:\n",
    "        return populate_auxiliary(Nx*Ny - Ndown,Nx*Ny - Nup, Nx, Ny, 'UpDn')"
   ]
  },
  {
   "cell_type": "code",
   "execution_count": 136,
   "metadata": {},
   "outputs": [
    {
     "data": {
      "text/plain": [
       "array([['UpDn', 'UpDn', 'UpDn', 'UpDn', 'UpDn', 'UpDn', 'UpDn', 'UpDn',\n",
       "        'UpDn', 'UpDn']], dtype='<U4')"
      ]
     },
     "execution_count": 136,
     "metadata": {},
     "output_type": "execute_result"
    }
   ],
   "source": [
    "populate_ladder(10,10,10,1)"
   ]
  },
  {
   "cell_type": "code",
   "execution_count": null,
   "metadata": {},
   "outputs": [],
   "source": []
  },
  {
   "cell_type": "code",
   "execution_count": null,
   "metadata": {},
   "outputs": [],
   "source": []
  }
 ],
 "metadata": {
  "kernelspec": {
   "display_name": "Python 3",
   "language": "python",
   "name": "python3"
  },
  "language_info": {
   "codemirror_mode": {
    "name": "ipython",
    "version": 3
   },
   "file_extension": ".py",
   "mimetype": "text/x-python",
   "name": "python",
   "nbconvert_exporter": "python",
   "pygments_lexer": "ipython3",
   "version": "3.8.3"
  }
 },
 "nbformat": 4,
 "nbformat_minor": 4
}
