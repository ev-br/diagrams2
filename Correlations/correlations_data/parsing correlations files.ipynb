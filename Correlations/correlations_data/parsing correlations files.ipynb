{
 "cells": [
  {
   "cell_type": "code",
   "execution_count": 171,
   "id": "bc153a71",
   "metadata": {},
   "outputs": [],
   "source": [
    "import pandas as pd\n",
    "import re\n",
    "import math\n",
    "import matplotlib.pyplot as plt\n",
    "from matplotlib.ticker import MaxNLocator\n",
    "import typing\n",
    "import os"
   ]
  },
  {
   "cell_type": "markdown",
   "id": "76e52501",
   "metadata": {},
   "source": [
    "# переводим файлик в pandas dataframe"
   ]
  },
  {
   "cell_type": "code",
   "execution_count": 172,
   "id": "8faec836",
   "metadata": {},
   "outputs": [],
   "source": [
    "def file_to_pd(file_path:str)-> pd.DataFrame:\n",
    "    lst = []\n",
    "    lst2 = []\n",
    "    with open(file_path) as f:\n",
    "        for line in f:\n",
    "            if 'Потом айтензор' in line:\n",
    "                break\n",
    "            lst.append(dict(zip(['n1','n2','Re','Im'], list(map(float,re.findall(r'[\\d\\.e-]+', line))))))\n",
    "        for line in f:\n",
    "            lst2.append(dict(zip(['n1','n2','Re','Im'], \n",
    "                                 list(map(float,re.findall(r'[\\d\\.e-]+', line)))+[0])))\n",
    "\n",
    "    df1 = pd.DataFrame(lst[1:])\n",
    "    df2 = pd.DataFrame(lst2)\n",
    "    df2 = df2[df2.n1 == df2.n2]\n",
    "    df2.n1 += 1\n",
    "    df2.n2 += 1\n",
    "    df = pd.concat([df1, df2], axis = 0)\n",
    "    df.sort_values(by = ['n1','n2'], inplace = True)\n",
    "    df.reset_index(inplace = True, drop =True)\n",
    "    \n",
    "    return df\n"
   ]
  },
  {
   "cell_type": "code",
   "execution_count": 173,
   "id": "51b644be",
   "metadata": {},
   "outputs": [
    {
     "data": {
      "text/plain": [
       "['W3_40_10_3_periodic_superconductive.txt',\n",
       " 'W3_40_10_3superconductive.txt',\n",
       " 'W3_40_10_5_periodic_superconductive.txt',\n",
       " 'W3_40_10_5superconductive.txt',\n",
       " 'W3_40_15_3_periodic_superconductive.txt',\n",
       " 'W3_40_15_3superconductive.txt',\n",
       " 'W3_40_15_5_periodic_superconductive.txt',\n",
       " 'W3_40_15_5superconductive.txt',\n",
       " 'W3_40_5_3_periodic_superconductive.txt',\n",
       " 'W3_40_5_3superconductive.txt',\n",
       " 'W3_40_5_5_periodic_superconductive.txt',\n",
       " 'W3_40_5_5superconductive.txt',\n",
       " 'W4_40_15_5_periodic_superconductive.txt',\n",
       " 'W4_40_15_5_superconductive.txt',\n",
       " 'W5_40_15_5_superconductive.txt']"
      ]
     },
     "execution_count": 173,
     "metadata": {},
     "output_type": "execute_result"
    }
   ],
   "source": [
    "files_list = sorted(list(i for i in os.listdir(os.getcwd()) if '.txt' in i))\n",
    "files_list"
   ]
  },
  {
   "cell_type": "markdown",
   "id": "58f51951",
   "metadata": {},
   "source": [
    "# Как нарисовать корреляции (без Фурье)"
   ]
  },
  {
   "cell_type": "code",
   "execution_count": 174,
   "id": "b9aec7c7",
   "metadata": {},
   "outputs": [
    {
     "data": {
      "text/plain": [
       "''"
      ]
     },
     "execution_count": 174,
     "metadata": {},
     "output_type": "execute_result"
    }
   ],
   "source": [
    "# читаем файл\n",
    "\n",
    "df = file_to_pd(files_list[4])\n",
    "\n",
    "# Нумерация узлов на решетке такая:\n",
    "'''\n",
    "1\t5\t9\t...\n",
    "2\t6\t10\t...\n",
    "3\t7\t11\t...\n",
    "4\t8\t12\t...\n",
    "'''\n",
    "''"
   ]
  },
  {
   "cell_type": "code",
   "execution_count": 175,
   "id": "529b2be2",
   "metadata": {},
   "outputs": [
    {
     "data": {
      "text/html": [
       "<div>\n",
       "<style scoped>\n",
       "    .dataframe tbody tr th:only-of-type {\n",
       "        vertical-align: middle;\n",
       "    }\n",
       "\n",
       "    .dataframe tbody tr th {\n",
       "        vertical-align: top;\n",
       "    }\n",
       "\n",
       "    .dataframe thead th {\n",
       "        text-align: right;\n",
       "    }\n",
       "</style>\n",
       "<table border=\"1\" class=\"dataframe\">\n",
       "  <thead>\n",
       "    <tr style=\"text-align: right;\">\n",
       "      <th></th>\n",
       "      <th>n1</th>\n",
       "      <th>n2</th>\n",
       "      <th>Re</th>\n",
       "      <th>Im</th>\n",
       "    </tr>\n",
       "  </thead>\n",
       "  <tbody>\n",
       "    <tr>\n",
       "      <th>7034</th>\n",
       "      <td>100.0</td>\n",
       "      <td>105.0</td>\n",
       "      <td>0.01366</td>\n",
       "      <td>0.0</td>\n",
       "    </tr>\n",
       "  </tbody>\n",
       "</table>\n",
       "</div>"
      ],
      "text/plain": [
       "         n1     n2       Re   Im\n",
       "7034  100.0  105.0  0.01366  0.0"
      ]
     },
     "execution_count": 175,
     "metadata": {},
     "output_type": "execute_result"
    }
   ],
   "source": [
    "df = file_to_pd(files_list[4])\n",
    "df[(df.n1 == 100) & (df.n2 == 105)]"
   ]
  },
  {
   "cell_type": "code",
   "execution_count": null,
   "id": "454bbd27",
   "metadata": {},
   "outputs": [],
   "source": []
  },
  {
   "cell_type": "markdown",
   "id": "4f8e7bbd",
   "metadata": {},
   "source": [
    "### Тогда полученные корреляции \"Вдоль ноги\" номер 2 из центра это узел 82 (для W = 4)"
   ]
  },
  {
   "cell_type": "code",
   "execution_count": 126,
   "id": "d9ff046c",
   "metadata": {},
   "outputs": [],
   "source": [
    "lst = df[(df.n1 == 82) & df.n2.isin(range(82,161,4))].Re.to_list()"
   ]
  },
  {
   "cell_type": "code",
   "execution_count": 127,
   "id": "69ad6aa5",
   "metadata": {},
   "outputs": [
    {
     "name": "stdout",
     "output_type": "stream",
     "text": [
      "0.8321834811601992\n"
     ]
    },
    {
     "data": {
      "text/plain": [
       "[<matplotlib.lines.Line2D at 0x162353af0>]"
      ]
     },
     "execution_count": 127,
     "metadata": {},
     "output_type": "execute_result"
    },
    {
     "data": {
      "image/png": "[encoded data removed]",
      "text/plain": [
       "<Figure size 432x288 with 1 Axes>"
      ]
     },
     "metadata": {
      "needs_background": "light"
     },
     "output_type": "display_data"
    }
   ],
   "source": [
    "# Здесь взял от узла номер 1, потому что корреляция узла самого с собой около 0.8-0.9 и за ней мало что видно\n",
    "print(lst[0])\n",
    "plt.plot(list(range(len(lst)))[1:], lst[1:])"
   ]
  },
  {
   "cell_type": "code",
   "execution_count": 135,
   "id": "326ddeee",
   "metadata": {},
   "outputs": [
    {
     "data": {
      "text/html": [
       "<div>\n",
       "<style scoped>\n",
       "    .dataframe tbody tr th:only-of-type {\n",
       "        vertical-align: middle;\n",
       "    }\n",
       "\n",
       "    .dataframe tbody tr th {\n",
       "        vertical-align: top;\n",
       "    }\n",
       "\n",
       "    .dataframe thead th {\n",
       "        text-align: right;\n",
       "    }\n",
       "</style>\n",
       "<table border=\"1\" class=\"dataframe\">\n",
       "  <thead>\n",
       "    <tr style=\"text-align: right;\">\n",
       "      <th></th>\n",
       "      <th>n1</th>\n",
       "      <th>n2</th>\n",
       "      <th>Re</th>\n",
       "      <th>Im</th>\n",
       "    </tr>\n",
       "  </thead>\n",
       "  <tbody>\n",
       "    <tr>\n",
       "      <th>81</th>\n",
       "      <td>1.0</td>\n",
       "      <td>82.0</td>\n",
       "      <td>-0.000048</td>\n",
       "      <td>0.0</td>\n",
       "    </tr>\n",
       "    <tr>\n",
       "      <th>240</th>\n",
       "      <td>2.0</td>\n",
       "      <td>82.0</td>\n",
       "      <td>-0.000193</td>\n",
       "      <td>0.0</td>\n",
       "    </tr>\n",
       "    <tr>\n",
       "      <th>398</th>\n",
       "      <td>3.0</td>\n",
       "      <td>82.0</td>\n",
       "      <td>-0.000278</td>\n",
       "      <td>0.0</td>\n",
       "    </tr>\n",
       "    <tr>\n",
       "      <th>555</th>\n",
       "      <td>4.0</td>\n",
       "      <td>82.0</td>\n",
       "      <td>-0.000135</td>\n",
       "      <td>0.0</td>\n",
       "    </tr>\n",
       "    <tr>\n",
       "      <th>711</th>\n",
       "      <td>5.0</td>\n",
       "      <td>82.0</td>\n",
       "      <td>0.000039</td>\n",
       "      <td>0.0</td>\n",
       "    </tr>\n",
       "    <tr>\n",
       "      <th>...</th>\n",
       "      <td>...</td>\n",
       "      <td>...</td>\n",
       "      <td>...</td>\n",
       "      <td>...</td>\n",
       "    </tr>\n",
       "    <tr>\n",
       "      <th>9794</th>\n",
       "      <td>82.0</td>\n",
       "      <td>156.0</td>\n",
       "      <td>0.000276</td>\n",
       "      <td>0.0</td>\n",
       "    </tr>\n",
       "    <tr>\n",
       "      <th>9795</th>\n",
       "      <td>82.0</td>\n",
       "      <td>157.0</td>\n",
       "      <td>0.000250</td>\n",
       "      <td>0.0</td>\n",
       "    </tr>\n",
       "    <tr>\n",
       "      <th>9796</th>\n",
       "      <td>82.0</td>\n",
       "      <td>158.0</td>\n",
       "      <td>0.000565</td>\n",
       "      <td>0.0</td>\n",
       "    </tr>\n",
       "    <tr>\n",
       "      <th>9797</th>\n",
       "      <td>82.0</td>\n",
       "      <td>159.0</td>\n",
       "      <td>0.000491</td>\n",
       "      <td>0.0</td>\n",
       "    </tr>\n",
       "    <tr>\n",
       "      <th>9798</th>\n",
       "      <td>82.0</td>\n",
       "      <td>160.0</td>\n",
       "      <td>0.000174</td>\n",
       "      <td>0.0</td>\n",
       "    </tr>\n",
       "  </tbody>\n",
       "</table>\n",
       "<p>160 rows × 4 columns</p>\n",
       "</div>"
      ],
      "text/plain": [
       "        n1     n2        Re   Im\n",
       "81     1.0   82.0 -0.000048  0.0\n",
       "240    2.0   82.0 -0.000193  0.0\n",
       "398    3.0   82.0 -0.000278  0.0\n",
       "555    4.0   82.0 -0.000135  0.0\n",
       "711    5.0   82.0  0.000039  0.0\n",
       "...    ...    ...       ...  ...\n",
       "9794  82.0  156.0  0.000276  0.0\n",
       "9795  82.0  157.0  0.000250  0.0\n",
       "9796  82.0  158.0  0.000565  0.0\n",
       "9797  82.0  159.0  0.000491  0.0\n",
       "9798  82.0  160.0  0.000174  0.0\n",
       "\n",
       "[160 rows x 4 columns]"
      ]
     },
     "execution_count": 135,
     "metadata": {},
     "output_type": "execute_result"
    }
   ],
   "source": [
    "df[(df.n1 == 82) | (df.n2 == 82)]"
   ]
  },
  {
   "cell_type": "code",
   "execution_count": 137,
   "id": "7581057c",
   "metadata": {
    "scrolled": true
   },
   "outputs": [
    {
     "data": {
      "text/plain": [
       "[<matplotlib.lines.Line2D at 0x1625520d0>]"
      ]
     },
     "execution_count": 137,
     "metadata": {},
     "output_type": "execute_result"
    },
    {
     "data": {
      "image/png": "[encoded data removed]",
      "text/plain": [
       "<Figure size 432x288 with 1 Axes>"
      ]
     },
     "metadata": {
      "needs_background": "light"
     },
     "output_type": "display_data"
    }
   ],
   "source": [
    "plt.plot(df[(df.n2 == 82) & (df.n1.isin(range(2,82,4)))].Re[:].tolist())"
   ]
  },
  {
   "cell_type": "code",
   "execution_count": 129,
   "id": "6329a5fe",
   "metadata": {},
   "outputs": [
    {
     "data": {
      "text/html": [
       "<div>\n",
       "<style scoped>\n",
       "    .dataframe tbody tr th:only-of-type {\n",
       "        vertical-align: middle;\n",
       "    }\n",
       "\n",
       "    .dataframe tbody tr th {\n",
       "        vertical-align: top;\n",
       "    }\n",
       "\n",
       "    .dataframe thead th {\n",
       "        text-align: right;\n",
       "    }\n",
       "</style>\n",
       "<table border=\"1\" class=\"dataframe\">\n",
       "  <thead>\n",
       "    <tr style=\"text-align: right;\">\n",
       "      <th></th>\n",
       "      <th>n1</th>\n",
       "      <th>n2</th>\n",
       "      <th>Re</th>\n",
       "      <th>Im</th>\n",
       "    </tr>\n",
       "  </thead>\n",
       "  <tbody>\n",
       "    <tr>\n",
       "      <th>0</th>\n",
       "      <td>1.0</td>\n",
       "      <td>1.0</td>\n",
       "      <td>0.981106</td>\n",
       "      <td>0.0</td>\n",
       "    </tr>\n",
       "    <tr>\n",
       "      <th>1</th>\n",
       "      <td>1.0</td>\n",
       "      <td>2.0</td>\n",
       "      <td>0.001140</td>\n",
       "      <td>0.0</td>\n",
       "    </tr>\n",
       "    <tr>\n",
       "      <th>2</th>\n",
       "      <td>1.0</td>\n",
       "      <td>3.0</td>\n",
       "      <td>0.001132</td>\n",
       "      <td>0.0</td>\n",
       "    </tr>\n",
       "    <tr>\n",
       "      <th>3</th>\n",
       "      <td>1.0</td>\n",
       "      <td>4.0</td>\n",
       "      <td>0.000443</td>\n",
       "      <td>0.0</td>\n",
       "    </tr>\n",
       "    <tr>\n",
       "      <th>4</th>\n",
       "      <td>1.0</td>\n",
       "      <td>5.0</td>\n",
       "      <td>0.001000</td>\n",
       "      <td>0.0</td>\n",
       "    </tr>\n",
       "    <tr>\n",
       "      <th>...</th>\n",
       "      <td>...</td>\n",
       "      <td>...</td>\n",
       "      <td>...</td>\n",
       "      <td>...</td>\n",
       "    </tr>\n",
       "    <tr>\n",
       "      <th>12875</th>\n",
       "      <td>158.0</td>\n",
       "      <td>159.0</td>\n",
       "      <td>0.002885</td>\n",
       "      <td>0.0</td>\n",
       "    </tr>\n",
       "    <tr>\n",
       "      <th>12876</th>\n",
       "      <td>158.0</td>\n",
       "      <td>160.0</td>\n",
       "      <td>0.001131</td>\n",
       "      <td>0.0</td>\n",
       "    </tr>\n",
       "    <tr>\n",
       "      <th>12877</th>\n",
       "      <td>159.0</td>\n",
       "      <td>159.0</td>\n",
       "      <td>0.947276</td>\n",
       "      <td>0.0</td>\n",
       "    </tr>\n",
       "    <tr>\n",
       "      <th>12878</th>\n",
       "      <td>159.0</td>\n",
       "      <td>160.0</td>\n",
       "      <td>0.001140</td>\n",
       "      <td>0.0</td>\n",
       "    </tr>\n",
       "    <tr>\n",
       "      <th>12879</th>\n",
       "      <td>160.0</td>\n",
       "      <td>160.0</td>\n",
       "      <td>0.981106</td>\n",
       "      <td>0.0</td>\n",
       "    </tr>\n",
       "  </tbody>\n",
       "</table>\n",
       "<p>12880 rows × 4 columns</p>\n",
       "</div>"
      ],
      "text/plain": [
       "          n1     n2        Re   Im\n",
       "0        1.0    1.0  0.981106  0.0\n",
       "1        1.0    2.0  0.001140  0.0\n",
       "2        1.0    3.0  0.001132  0.0\n",
       "3        1.0    4.0  0.000443  0.0\n",
       "4        1.0    5.0  0.001000  0.0\n",
       "...      ...    ...       ...  ...\n",
       "12875  158.0  159.0  0.002885  0.0\n",
       "12876  158.0  160.0  0.001131  0.0\n",
       "12877  159.0  159.0  0.947276  0.0\n",
       "12878  159.0  160.0  0.001140  0.0\n",
       "12879  160.0  160.0  0.981106  0.0\n",
       "\n",
       "[12880 rows x 4 columns]"
      ]
     },
     "execution_count": 129,
     "metadata": {},
     "output_type": "execute_result"
    }
   ],
   "source": [
    "df"
   ]
  },
  {
   "cell_type": "markdown",
   "id": "02e8ea75",
   "metadata": {},
   "source": [
    "# Функция от Tiancheng\n",
    "\n",
    "(он написал \"расчет структурного фактора\")"
   ]
  },
  {
   "cell_type": "code",
   "execution_count": 141,
   "id": "980f4272",
   "metadata": {},
   "outputs": [],
   "source": [
    "import numpy as np\n",
    "\n",
    "'''\n",
    "dx\tdy\t<Delta⁺_j Delta_i>  --  s-wave\n",
    "0\t0\t0.43536001696060 + I * 0.00000000000000\n",
    "0\t1\t0.18038227330943 + I * -0.00000000000000\n",
    "0\t2\t0.10985737618875 + I * -0.00000000000000\n",
    "0\t3\t0.18038227330943 + I * 0.00000000000000\n",
    "1\t0\t0.18038227330943 + I * -0.00000000000000\n",
    "1\t1\t0.10985737618875 + I * -0.00000000000000\n",
    "1\t2\t0.11909652058616 + I * -0.00000000000000\n",
    "1\t3\t0.10985737618875 + I * 0.00000000000000\n",
    "2\t0\t0.10985737618875 + I * -0.00000000000000\n",
    "2\t1\t0.11909652058616 + I * -0.00000000000000\n",
    "2\t2\t0.10341090148926 + I * -0.00000000000000\n",
    "2\t3\t0.11909652058616 + I * 0.00000000000000\n",
    "3\t0\t0.18038227330943 + I * 0.00000000000000\n",
    "3\t1\t0.10985737618875 + I * -0.00000000000000\n",
    "3\t2\t0.11909652058616 + I * 0.00000000000000\n",
    "3\t3\t0.10985737618875 + I * 0.00000000000000\n",
    "'''\n",
    "\n",
    "# data = read_corr(file_out, str_to_find) # read the datafile like above\n",
    "# print(data)\n",
    "rxs = data[:, 0]\n",
    "rys = data[:, 1]\n",
    "corrs = data[:, 2]\n",
    "\n",
    "lx = 40\n",
    "ly = 4\n",
    "pi = np.pi\n",
    "exp = np.exp\n",
    "kxarray = np.arange(0, 2 * pi + 0.0001, 2 * pi / lx)\n",
    "kyarray = np.arange(0, 2 * pi + 0.0001, 2 * pi / ly)\n",
    "\n",
    "# Sxys = np.full((len(kxarray), len(kyarray)), np.nan)\n",
    "\n",
    "# for i_kx, kx in enumerate(kxarray):\n",
    "#     for i_ky, ky in enumerate(kyarray):\n",
    "#         Sxy = 0\n",
    "#         for r, corr in enumerate(corrs):\n",
    "#             rx = rxs[r]\n",
    "#             ry = rys[r]\n",
    "#             Sxy = Sxy + corr * exp(1j * (rx * kx + ry * ky))\n",
    "\n",
    "#         Sxys[i_kx, i_ky, i_sz] = Sxy"
   ]
  },
  {
   "cell_type": "code",
   "execution_count": 142,
   "id": "43a82f6c",
   "metadata": {},
   "outputs": [
    {
     "data": {
      "text/plain": [
       "41"
      ]
     },
     "execution_count": 142,
     "metadata": {},
     "output_type": "execute_result"
    }
   ],
   "source": [
    "len(kxarray)"
   ]
  },
  {
   "cell_type": "code",
   "execution_count": 143,
   "id": "e909f077",
   "metadata": {},
   "outputs": [
    {
     "data": {
      "text/plain": [
       "435497.5"
      ]
     },
     "execution_count": 143,
     "metadata": {},
     "output_type": "execute_result"
    }
   ],
   "source": []
  },
  {
   "cell_type": "code",
   "execution_count": 145,
   "id": "708bcabc",
   "metadata": {},
   "outputs": [
    {
     "data": {
      "text/plain": [
       "392357.22785714286"
      ]
     },
     "execution_count": 145,
     "metadata": {},
     "output_type": "execute_result"
    }
   ],
   "source": []
  },
  {
   "cell_type": "code",
   "execution_count": 146,
   "id": "8d827f36",
   "metadata": {},
   "outputs": [
    {
     "data": {
      "text/plain": [
       "70000.0"
      ]
     },
     "execution_count": 146,
     "metadata": {},
     "output_type": "execute_result"
    }
   ],
   "source": []
  },
  {
   "cell_type": "code",
   "execution_count": 148,
   "id": "6de7bf30",
   "metadata": {},
   "outputs": [
    {
     "data": {
      "text/plain": [
       "'welcome'"
      ]
     },
     "execution_count": 148,
     "metadata": {},
     "output_type": "execute_result"
    }
   ],
   "source": []
  },
  {
   "cell_type": "code",
   "execution_count": null,
   "id": "9016aca2",
   "metadata": {},
   "outputs": [],
   "source": []
  }
 ],
 "metadata": {
  "kernelspec": {
   "display_name": "Python 3 (ipykernel)",
   "language": "python",
   "name": "python3"
  },
  "language_info": {
   "codemirror_mode": {
    "name": "ipython",
    "version": 3
   },
   "file_extension": ".py",
   "mimetype": "text/x-python",
   "name": "python",
   "nbconvert_exporter": "python",
   "pygments_lexer": "ipython3",
   "version": "3.9.13"
  }
 },
 "nbformat": 4,
 "nbformat_minor": 5
}
