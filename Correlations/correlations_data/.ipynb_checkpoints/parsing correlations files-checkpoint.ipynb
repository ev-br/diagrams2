{
 "cells": [
  {
   "cell_type": "code",
   "execution_count": 80,
   "id": "5c08fbd1",
   "metadata": {},
   "outputs": [],
   "source": [
    "import pandas as pd\n",
    "import re\n",
    "import math\n",
    "import matplotlib.pyplot as plt\n",
    "from matplotlib.ticker import MaxNLocator\n",
    "import typing\n",
    "import os"
   ]
  },
  {
   "cell_type": "markdown",
   "id": "6d7638f5",
   "metadata": {},
   "source": [
    "# переводим файлик в pandas dataframe"
   ]
  },
  {
   "cell_type": "code",
   "execution_count": 41,
   "id": "a56129a0",
   "metadata": {},
   "outputs": [],
   "source": [
    "def file_to_pd(file_path:str)-> pd.DataFrame:\n",
    "    lst = []\n",
    "    lst2 = []\n",
    "    with open(file_path) as f:\n",
    "        for line in f:\n",
    "            if 'Потом айтензор' in line:\n",
    "                break\n",
    "            lst.append(dict(zip(['n1','n2','Re','Im'], list(map(float,re.findall(r'[\\d\\.e-]+', line))))))\n",
    "        for line in f:\n",
    "            lst2.append(dict(zip(['n1','n2','Re','Im'], \n",
    "                                 list(map(float,re.findall(r'[\\d\\.e-]+', line)))+[0])))\n",
    "\n",
    "    df1 = pd.DataFrame(lst[1:])\n",
    "    df2 = pd.DataFrame(lst2)\n",
    "    df2 = df2[df2.n1 == df2.n2]\n",
    "    df2.n1 += 1\n",
    "    df2.n2 += 1\n",
    "    df = pd.concat([df1, df2], axis = 0)\n",
    "    df.sort_values(by = ['n1','n2'], inplace = True)\n",
    "    df.reset_index(inplace = True, drop =True)\n",
    "    \n",
    "    return df\n"
   ]
  },
  {
   "cell_type": "code",
   "execution_count": 87,
   "id": "4b20afe5",
   "metadata": {},
   "outputs": [
    {
     "data": {
      "text/plain": [
       "['W3_40_10_3_periodic_superconductive.txt',\n",
       " 'W3_40_10_3superconductive.txt',\n",
       " 'W3_40_10_5_periodic_superconductive.txt',\n",
       " 'W3_40_10_5superconductive.txt',\n",
       " 'W3_40_15_3_periodic_superconductive.txt',\n",
       " 'W3_40_15_3superconductive.txt',\n",
       " 'W3_40_15_5_periodic_superconductive.txt',\n",
       " 'W3_40_15_5superconductive.txt',\n",
       " 'W3_40_5_3_periodic_superconductive.txt',\n",
       " 'W3_40_5_3superconductive.txt',\n",
       " 'W3_40_5_5_periodic_superconductive.txt',\n",
       " 'W3_40_5_5superconductive.txt',\n",
       " 'W4_40_15_5_periodic_superconductive.txt',\n",
       " 'W4_40_15_5_superconductive.txt',\n",
       " 'W5_40_15_5_superconductive.txt']"
      ]
     },
     "execution_count": 87,
     "metadata": {},
     "output_type": "execute_result"
    }
   ],
   "source": [
    "files_list = sorted(list(i for i in os.listdir(os.getcwd()) if '.txt' in i))\n",
    "files_list"
   ]
  },
  {
   "cell_type": "markdown",
   "id": "81585080",
   "metadata": {},
   "source": [
    "# Как нарисовать корреляции (без Фурье)"
   ]
  },
  {
   "cell_type": "code",
   "execution_count": 95,
   "id": "85a4e4e8",
   "metadata": {},
   "outputs": [
    {
     "data": {
      "text/plain": [
       "''"
      ]
     },
     "execution_count": 95,
     "metadata": {},
     "output_type": "execute_result"
    }
   ],
   "source": [
    "# читаем файл\n",
    "\n",
    "df = file_to_pd('W4_40_15_5_superconductive.txt')\n",
    "\n",
    "# Нумерация узлов на решетке такая:\n",
    "'''\n",
    "1\t5\t9\t...\n",
    "2\t6\t10\t...\n",
    "3\t7\t11\t...\n",
    "4\t8\t12\t...\n",
    "'''\n",
    "''"
   ]
  },
  {
   "cell_type": "markdown",
   "id": "d558803c",
   "metadata": {},
   "source": [
    "### Тогда полученные корреляции \"Вдоль ноги\" номер 2 из центра это узел 82 (для W = 4)"
   ]
  },
  {
   "cell_type": "code",
   "execution_count": 126,
   "id": "0a5ebf6d",
   "metadata": {},
   "outputs": [],
   "source": [
    "lst = df[(df.n1 == 82) & df.n2.isin(range(82,161,4))].Re.to_list()"
   ]
  },
  {
   "cell_type": "code",
   "execution_count": 127,
   "id": "750590c4",
   "metadata": {},
   "outputs": [
    {
     "name": "stdout",
     "output_type": "stream",
     "text": [
      "0.8321834811601992\n"
     ]
    },
    {
     "data": {
      "text/plain": [
       "[<matplotlib.lines.Line2D at 0x162353af0>]"
      ]
     },
     "execution_count": 127,
     "metadata": {},
     "output_type": "execute_result"
    },
    {
     "data": {
      "image/png": "[encoded data removed]",
      "text/plain": [
       "<Figure size 432x288 with 1 Axes>"
      ]
     },
     "metadata": {
      "needs_background": "light"
     },
     "output_type": "display_data"
    }
   ],
   "source": [
    "# Здесь взял от узла номер 1, потому что корреляция узла самого с собой около 0.8-0.9 и за ней мало что видно\n",
    "print(lst[0])\n",
    "plt.plot(list(range(len(lst)))[1:], lst[1:])"
   ]
  },
  {
   "cell_type": "code",
   "execution_count": 128,
   "id": "67b4275f",
   "metadata": {
    "scrolled": false
   },
   "outputs": [
    {
     "data": {
      "text/plain": [
       "[<matplotlib.lines.Line2D at 0x1623bfd60>]"
      ]
     },
     "execution_count": 128,
     "metadata": {},
     "output_type": "execute_result"
    },
    {
     "data": {
      "image/png": "[encoded data removed]",
      "text/plain": [
       "<Figure size 432x288 with 1 Axes>"
      ]
     },
     "metadata": {
      "needs_background": "light"
     },
     "output_type": "display_data"
    }
   ],
   "source": [
    "plt.plot(df[(df.n1 == 82) & (df.n2.isin(range(82,161,4)))].Re[:].tolist())"
   ]
  },
  {
   "cell_type": "markdown",
   "id": "c8b8570b",
   "metadata": {},
   "source": [
    "# Функция от Tiancheng\n",
    "\n",
    "(он написал \"расчет структурного фактора\")"
   ]
  },
  {
   "cell_type": "code",
   "execution_count": 61,
   "id": "045a0ace",
   "metadata": {},
   "outputs": [],
   "source": [
    "import numpy as np\n",
    "\n",
    "'''\n",
    "dx\tdy\t<Delta⁺_j Delta_i>  --  s-wave\n",
    "0\t0\t0.43536001696060 + I * 0.00000000000000\n",
    "0\t1\t0.18038227330943 + I * -0.00000000000000\n",
    "0\t2\t0.10985737618875 + I * -0.00000000000000\n",
    "0\t3\t0.18038227330943 + I * 0.00000000000000\n",
    "1\t0\t0.18038227330943 + I * -0.00000000000000\n",
    "1\t1\t0.10985737618875 + I * -0.00000000000000\n",
    "1\t2\t0.11909652058616 + I * -0.00000000000000\n",
    "1\t3\t0.10985737618875 + I * 0.00000000000000\n",
    "2\t0\t0.10985737618875 + I * -0.00000000000000\n",
    "2\t1\t0.11909652058616 + I * -0.00000000000000\n",
    "2\t2\t0.10341090148926 + I * -0.00000000000000\n",
    "2\t3\t0.11909652058616 + I * 0.00000000000000\n",
    "3\t0\t0.18038227330943 + I * 0.00000000000000\n",
    "3\t1\t0.10985737618875 + I * -0.00000000000000\n",
    "3\t2\t0.11909652058616 + I * 0.00000000000000\n",
    "3\t3\t0.10985737618875 + I * 0.00000000000000\n",
    "'''\n",
    "\n",
    "data = read_corr(file_out, str_to_find) # read the datafile like above\n",
    "# print(data)\n",
    "rxs = data[:, 0]\n",
    "rys = data[:, 1]\n",
    "corrs = data[:, 2]\n",
    "\n",
    "lx = 40\n",
    "ly = 3\n",
    "pi = np.pi\n",
    "exp = np.exp\n",
    "kxarray = np.arange(0, 2 * pi + 0.0001, 2 * pi / lx)\n",
    "kyarray = np.arange(0, 2 * pi + 0.0001, 2 * pi / ly)\n",
    "\n",
    "Sxys = np.full((len(kxarray), len(kyarray)), np.nan)\n",
    "\n",
    "for i_kx, kx in enumerate(kxarray):\n",
    "    for i_ky, ky in enumerate(kyarray):\n",
    "        Sxy = 0\n",
    "        for r, corr in enumerate(corrs):\n",
    "            rx = rxs[r]\n",
    "            ry = rys[r]\n",
    "            Sxy = Sxy + corr * exp(1j * (rx * kx + ry * ky))\n",
    "\n",
    "        Sxys[i_kx, i_ky, i_sz] = Sxy"
   ]
  }
 ],
 "metadata": {
  "kernelspec": {
   "display_name": "Python 3 (ipykernel)",
   "language": "python",
   "name": "python3"
  },
  "language_info": {
   "codemirror_mode": {
    "name": "ipython",
    "version": 3
   },
   "file_extension": ".py",
   "mimetype": "text/x-python",
   "name": "python",
   "nbconvert_exporter": "python",
   "pygments_lexer": "ipython3",
   "version": "3.9.13"
  }
 },
 "nbformat": 4,
 "nbformat_minor": 5
}
