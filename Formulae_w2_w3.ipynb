{
 "cells": [
  {
   "cell_type": "code",
   "execution_count": null,
   "metadata": {},
   "outputs": [],
   "source": []
  },
  {
   "cell_type": "markdown",
   "metadata": {},
   "source": [
    "Начнем с двуногой лестницы при U = 0. Гамильтониан без взаимодействия будет иметь вид:\n",
    "\n",
    "$$\\hat{H}= -t\\sum_{i} {a_{i,1}^+}{a_{i+1,1}} + h.c.  -t\\sum_{i} {a_{i,2}^+}{a_{i+1,2}} + h.c. -t_{+}\\sum_{i} {a_{i,1}^+}{a_{i,2}} + h.c.$$\n",
    "    \n",
    "Здесь h.c. - эрмитово сопряжение"
   ]
  },
  {
   "cell_type": "markdown",
   "metadata": {},
   "source": [
    "Перейдем к импульсам с помощью преобразования Фурье:\n",
    "$$a_k^+= \\frac{1}{\\sqrt{L}}\\sum_{x} e^{ikx}a_x^+$$\n",
    "\n",
    "$$a_k= \\frac{1}{\\sqrt{L}}\\sum_{x} e^{-ikx}a_x$$\n",
    "\n",
    "$$a_x^+= \\frac{1}{\\sqrt{L}}\\sum_{k} e^{-ikx}a_k^+$$\n",
    "\n",
    "$$a_x= \\frac{1}{\\sqrt{L}}\\sum_{k} e^{ikx}a_k$$\n",
    "\n",
    "Энергия одной частицы вдоль одной ноги \n",
    "\n",
    "$$\\epsilon_k = -2tcos(ka)$$\n",
    "\n",
    "Но поскольку энергия определена с точностью до константы, будем использовать:\n",
    "\n",
    "$$\\epsilon_k = 2t(1-cos(ka))$$\n",
    "\n",
    "Тогда наш гамильтониан примет вид:\n",
    "\n",
    "$$\\hat{H}= \\sum_{k_1}2t(1-cos(k_1a)){a_{k,1}^+}{a_{k,1}} + \\sum_{k_2}2t(1-cos(k_2a)){a_{k,2}^+}{a_{k,2}} - t_{+}(\\sum_{k} {a_{k,1}}^+{a_{k,2}} + h.c.)$$"
   ]
  },
  {
   "cell_type": "markdown",
   "metadata": {},
   "source": [
    "Это выражение можно диагонализовать следующим образом:"
   ]
  },
  {
   "cell_type": "markdown",
   "metadata": {},
   "source": [
    "$$\\begin{pmatrix}{a_{k,1}^+}& {a_{k,2}^+}\\end{pmatrix}\\begin{pmatrix} \\epsilon_k& -t_{+}\\\\-t_{+}& \\epsilon_k\\end{pmatrix}\\begin{pmatrix}{a_{k,1}}\\\\{a_{k,2}}\\end{pmatrix} = \\begin{pmatrix}{c_{k,1}^+}& {c_{k,2}^+}\\end{pmatrix}\\begin{pmatrix} \\lambda_1& 0\\\\0& \\lambda_2\\end{pmatrix}\\begin{pmatrix}{c_{k,1}}\\\\{c_{k,2}}\\end{pmatrix}$$"
   ]
  },
  {
   "cell_type": "markdown",
   "metadata": {},
   "source": [
    "Остается найти собственные значения матрицы коэффициентов слева. \n",
    "\n",
    "$$\\begin{vmatrix} \\epsilon_k-\\lambda& -t_{+}\\\\-t_{+}& \\epsilon_k-\\lambda\\end{vmatrix}=0$$\n",
    "\n",
    "$$(\\epsilon_k-\\lambda)^2 - (t_{+})^2 = 0$$\n",
    "\n",
    "$$\\lambda_{1,2} = \\epsilon_k \\pm t_{+}$$"
   ]
  },
  {
   "cell_type": "markdown",
   "metadata": {},
   "source": [
    "Тогда итоговый гамильтониан имеет вид (в нем как раз видна энергия одной частицы):\n",
    "    \n",
    "$$\\hat{H}= \\sum_{k}(\\epsilon_k-t_{+}){c_{k,1}^+}{c_{k,1}} + \\sum_{k}(\\epsilon_k+t_{+}){c_{k,2}^+}{c_{k,2}}= \\\\ = \\sum_{k}(2t(1-cos(ka))-t_{+}){c_{k,1}^+}{c_{k,1}} + \\sum_{k}(2t(1-cos(ka))+t_{+}){c_{k,2}^+}{c_{k,2}}$$"
   ]
  },
  {
   "cell_type": "markdown",
   "metadata": {},
   "source": [
    "Как следует из [статьи](https://arxiv.org/pdf/cond-mat/0605350.pdf) Е.А. Буровского с коллегами формула (2.3), энергия двух частиц на решетке будет равна:\n",
    "\n",
    "$${U^*}^{-1} = -\\int_{1BZ}\\frac{dk}{(2\\pi)^3}\\frac{1}{2\\epsilon_k}$$\n",
    "\n",
    "при выборе энергии:\n",
    "\n",
    "$$\\epsilon_k = 2t(1-cos(ka))$$\n",
    "\n",
    "и  $$a = 1$$ \n",
    "\n",
    "Интеграл по первой зоне Бриллюэна по каждой из переменных нужно брать на отрезке:\n",
    "\n",
    "$$[-\\frac{\\pi}a;\\frac{\\pi}a]$$\n",
    "\n",
    "будет равна\n",
    "\n",
    "$${U^*} = -7.915t$$"
   ]
  },
  {
   "cell_type": "markdown",
   "metadata": {},
   "source": [
    "В качестве теста можно попробовать взять этот интеграл численно для *t = a = 1*, там, конечно, есть особые точки (когда знаменатель равен нулю), но поскольку наш приближенный метод в эти точки почти наверное не попадет, мы этот интеграл как бы берем в смысле главного значения:"
   ]
  },
  {
   "cell_type": "code",
   "execution_count": 12,
   "metadata": {},
   "outputs": [],
   "source": [
    "from math import pi, cos\n",
    "import numpy as np\n",
    "\n",
    "def foo(x,y,z):\n",
    "    return 1/(2*((2*pi)**3) * (\n",
    "    2*(1-cos(x))+2*(1-cos(y))+2*(1-cos(z))\n",
    "    ))"
   ]
  },
  {
   "cell_type": "code",
   "execution_count": 15,
   "metadata": {},
   "outputs": [],
   "source": [
    "X = np.linspace(-pi, pi, 3000)\n",
    "Y = np.linspace(-pi, pi, 3000)\n",
    "Z = np.linspace(-pi, pi, 3000)\n",
    "h = 2*pi/3000\n",
    "integral = 0"
   ]
  },
  {
   "cell_type": "code",
   "execution_count": null,
   "metadata": {},
   "outputs": [],
   "source": [
    "for i in enumerate(X):\n",
    "    for j in enumerate(Y):\n",
    "        for k in enumerate(Z):\n",
    "            integral+=(h**3)*foo(i,j,k)"
   ]
  },
  {
   "cell_type": "code",
   "execution_count": null,
   "metadata": {},
   "outputs": [],
   "source": [
    "Правило такого подсчета интеграла, например, [отсюда]()"
   ]
  },
  {
   "cell_type": "markdown",
   "metadata": {},
   "source": [
    "Я считал это в другом ноутбуке, считается очень долго, но ответ такой:\n",
    "\n",
    "    integral = 0.12630106997797813"
   ]
  },
  {
   "cell_type": "code",
   "execution_count": 28,
   "metadata": {},
   "outputs": [
    {
     "name": "stdout",
     "output_type": "stream",
     "text": [
      "7.917589298129937\n"
     ]
    }
   ],
   "source": [
    "U = 1/0.12630106997797813\n",
    "print(U)"
   ]
  },
  {
   "cell_type": "markdown",
   "metadata": {},
   "source": [
    "Если считать кубиком $3000*3000*3000$ при $a = 1$, $U = - 7.917589298129937 * t$"
   ]
  },
  {
   "cell_type": "markdown",
   "metadata": {},
   "source": [
    "Посчитаем наш интеграл аналогичным образом:\n",
    "\n",
    "$${U^*}^{-1} = -\\int_{1BZ}\\frac{dk_1 dk_2}{(2\\pi)^2}\\frac{1}{2((2t(1-cos(k_1a))-t_{+}) + (2t(1-cos(k_2a))+t_{+}))}$$"
   ]
  },
  {
   "cell_type": "code",
   "execution_count": 23,
   "metadata": {},
   "outputs": [],
   "source": [
    "def _2_leg_energy(k1, k2, t, t_plus):\n",
    "    return 1/(2*((2*pi)**2) * (\n",
    "    (2*t*(1-cos(k1))-t_plus)+(2*t*(1-cos(k2))+t_plus)\n",
    "    ))"
   ]
  },
  {
   "cell_type": "markdown",
   "metadata": {},
   "source": [
    "Будем, на всякий случай, считать, что $t = t_+ = 1$"
   ]
  },
  {
   "cell_type": "markdown",
   "metadata": {},
   "source": [
    "Переопределим функцию, чтоб попроще считалось:"
   ]
  },
  {
   "cell_type": "code",
   "execution_count": 44,
   "metadata": {},
   "outputs": [],
   "source": [
    "def _2_leg_energy_simplified(k1, k2):\n",
    "    return 1/(2*((2*pi)**2) * (\n",
    "    2*(1-cos(k1))-1 + 2*(1-cos(k2))+1\n",
    "    ))"
   ]
  },
  {
   "cell_type": "code",
   "execution_count": 45,
   "metadata": {},
   "outputs": [
    {
     "data": {
      "text/plain": [
       "0.003375852248988832"
      ]
     },
     "execution_count": 45,
     "metadata": {},
     "output_type": "execute_result"
    }
   ],
   "source": [
    "_2_leg_energy_simplified(1,2)"
   ]
  },
  {
   "cell_type": "code",
   "execution_count": 49,
   "metadata": {},
   "outputs": [],
   "source": [
    "from datetime import datetime as dt\n",
    "\n",
    "X = np.linspace(-pi, pi, 3000)\n",
    "Y = np.linspace(-pi, pi, 3000)\n",
    "\n",
    "h = 2*pi/3000\n",
    "integral = 0"
   ]
  },
  {
   "cell_type": "code",
   "execution_count": 50,
   "metadata": {},
   "outputs": [
    {
     "name": "stdout",
     "output_type": "stream",
     "text": [
      "Thu Oct 15 23:29:17 2020\n",
      "Thu Oct 15 23:29:23 2020\n"
     ]
    }
   ],
   "source": [
    "print(dt.now().ctime())\n",
    "for i in X:\n",
    "    for j in Y:\n",
    "        integral+=(h**3)*_2_leg_energy_simplified(i,j)\n",
    "print(dt.now().ctime())"
   ]
  },
  {
   "cell_type": "code",
   "execution_count": 52,
   "metadata": {},
   "outputs": [
    {
     "data": {
      "text/plain": [
       "0.0015000537368560912"
      ]
     },
     "execution_count": 52,
     "metadata": {},
     "output_type": "execute_result"
    }
   ],
   "source": [
    "integral"
   ]
  },
  {
   "cell_type": "markdown",
   "metadata": {},
   "source": [
    "Для трехногой лестницы гамильтониан без взаимодействия будет иметь следующий вид:\n",
    "\n",
    "$$\\hat{H}= -t\\sum_{i} {a_{i,1}^+}{a_{i+1,1}} + h.c.  -t\\sum_{i} {a_{i,2}^+}{a_{i+1,2}} + h.c. -t\\sum_{i} {a_{i,3}^+}{a_{i+1,3}} + h.c. -t_{+}\\sum_{i} {a_{i,1}^+}{a_{i,2}} + h.c. -t_{+}\\sum_{i} {a_{i,2}^+}{a_{i,3}} + h.c.$$"
   ]
  },
  {
   "cell_type": "markdown",
   "metadata": {},
   "source": [
    "Используя то же Фурье-преобразование, переходим к *k*. Свободная энергия \"вдоль\" ноги лестницы остается такой же. Гамильтониан в испульсном представлении принимает вид:\n",
    "\n",
    "$$\\hat{H}= \\sum_{k}2t(1-cos(ka)){a_{k,1}^+}{a_{k,1}} + \\sum_{k}2t(1-cos(ka)){a_{k,2}^+}{a_{k,2}} +\\sum_{k}2t(1-cos(ka)){a_{k,3}^+}{a_{k,3}} - t_{+}(\\sum_{k} {a_{k,1}}^+{a_{k,2}} + h.c. + {a_{k,2}}^+{a_{k,3}} + h.c.)$$\n",
    "\n"
   ]
  },
  {
   "cell_type": "markdown",
   "metadata": {},
   "source": [
    "Диагонализацию проводим так же:\n",
    "\n",
    "$$ \\begin{pmatrix}{a_{k,1}^+}& {a_{k,2}^+}& {a_{k,3}^+}\\end{pmatrix}\\begin{pmatrix}\\epsilon_k & -t_{+} & 0 \\\\-t_{+} & \\epsilon_k & -t_{+} \\\\ 0 & -t_{+} & \\epsilon_k \\end{pmatrix}\\begin{pmatrix}{a_{k,1}} \\\\ {a_{k,2}} \\\\ {a_{k,3}} \\end{pmatrix} = \\begin{pmatrix}{c_{k,1}^+}& {c_{k,2}^+}& {c_{k,3}^+}\\end{pmatrix}\\begin{pmatrix} \\lambda_1& 0 & 0\\\\0& \\lambda_2 & 0 \\\\ 0 & 0 & \\lambda_3\\end{pmatrix}\\begin{pmatrix}{c_{k,1}} \\\\ {c_{k,2}} \\\\ {c_{k,3}} \\end{pmatrix}$$"
   ]
  },
  {
   "cell_type": "markdown",
   "metadata": {},
   "source": [
    "$$\\begin{vmatrix}\\epsilon_k - \\lambda & -t_{+} & 0 \\\\-t_{+} & \\epsilon_k - \\lambda& -t_{+} \\\\ 0 & -t_{+} & \\epsilon_k - \\lambda \\end{vmatrix} = 0$$\n",
    "\n",
    "Разложим по первой строке:\n",
    "\n",
    "$$ (\\epsilon_k - \\lambda)((\\epsilon_k - \\lambda)^2 - {t_{+}}^2) + {t_{+}}(-{t_{+}}(\\epsilon_k - \\lambda)) = 0$$\n",
    "\n",
    "Вынесем общий множитель:\n",
    "\n",
    "$$ (\\epsilon_k - \\lambda)((\\epsilon_k - \\lambda)^2 - 2{t_{+}}^2)= 0$$\n",
    "\n",
    "Соответственно:\n",
    "$$\\lambda_1 = \\epsilon_k\\\\\n",
    "\\lambda_2 = \\epsilon_k + {t_{+}}\\sqrt{2}\\\\\n",
    "\\lambda_3 = \\epsilon_k - {t_{+}}\\sqrt{2}$$"
   ]
  },
  {
   "cell_type": "markdown",
   "metadata": {},
   "source": [
    "Тогда итоговый гамильтониан имеет вид (в нем как раз видна энергия одной частицы):\n",
    "    \n",
    "$$\\hat{H}= \\sum_{k}\\epsilon_k{c_{k,1}^+}{c_{k,1}} + \\sum_{k}(\\epsilon_k + {t_{+}}\\sqrt{2}){c_{k,2}^+}{c_{k,2}} + \\sum_{k}(\\epsilon_k - {t_{+}}\\sqrt{2}){c_{k,3}^+}{c_{k,3}} = \\\\ = \\sum_{k}(2t(1-cos(ka))){c_{k,1}^+}{c_{k,1}} + + \\sum_{k}(2t(1-cos(ka)) + {t_{+}}\\sqrt{2}){c_{k,2}^+}{c_{k,2}} + \\sum_{k}(2t(1-cos(ka)) - {t_{+}}\\sqrt{2}){c_{k,3}^+}{c_{k,3}}$$"
   ]
  },
  {
   "cell_type": "markdown",
   "metadata": {},
   "source": [
    "Посчитаем наш интеграл аналогичным образом:\n",
    "\n",
    "$${U^*}^{-1} = -\\int_{1BZ}\\frac{dk_1 dk_2 dk_3}{(2\\pi)^3}\\frac{1}{2(2t(1-cos(k_1a)) + (2t(1-cos(k_2a)) - {t_{+}}\\sqrt{2}) + (2t(1-cos(k_3a)) - {t_{+}}\\sqrt{2}))}$$"
   ]
  },
  {
   "cell_type": "code",
   "execution_count": null,
   "metadata": {},
   "outputs": [],
   "source": []
  }
 ],
 "metadata": {
  "kernelspec": {
   "display_name": "Python 3",
   "language": "python",
   "name": "python3"
  },
  "language_info": {
   "codemirror_mode": {
    "name": "ipython",
    "version": 3
   },
   "file_extension": ".py",
   "mimetype": "text/x-python",
   "name": "python",
   "nbconvert_exporter": "python",
   "pygments_lexer": "ipython3",
   "version": "3.8.3"
  }
 },
 "nbformat": 4,
 "nbformat_minor": 4
}
