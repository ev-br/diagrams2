{
 "cells": [
  {
   "cell_type": "code",
   "execution_count": 1,
   "metadata": {},
   "outputs": [
    {
     "ename": "SyntaxError",
     "evalue": "invalid syntax (<ipython-input-1-a21b630a4a86>, line 1)",
     "output_type": "error",
     "traceback": [
      "\u001b[0;36m  File \u001b[0;32m\"<ipython-input-1-a21b630a4a86>\"\u001b[0;36m, line \u001b[0;32m1\u001b[0m\n\u001b[0;31m    auto Nmin = Nup <= Ndown ? Nup : Ndown;\u001b[0m\n\u001b[0m         ^\u001b[0m\n\u001b[0;31mSyntaxError\u001b[0m\u001b[0;31m:\u001b[0m invalid syntax\n"
     ]
    }
   ],
   "source": [
    "auto Nmin = Nup <= Ndown ? Nup : Ndown;\n",
    "    auto is_up = Nup >= Ndown;\n",
    "    auto Nleft = max(Nup, Ndown) - Nmin;\n",
    "    \n",
    "    int prev = 0;\n",
    "\n",
    "    InitState initState(sites, \"0\");\n",
    "    for (int i = 1; i <= N; ++i)\n",
    "    {\n",
    "        if ( prev == 0 && i<= 2*Nmin){\n",
    "            initState.set(i, \"Up\");\n",
    "            prev = 1;\n",
    "            }\n",
    "        else if ( prev == 1 && i<= 2*Nmin){\n",
    "            initState.set(i, \"Dn\");\n",
    "            prev = 0;\n",
    "            }\n",
    "        else if ( prev == 0 && i<= 2*Nmin+Nleft){\n",
    "            initState.set(i, \"Up\");\n",
    "            prev = 0;\n",
    "            }\n",
    "    }\n",
    "    "
   ]
  },
  {
   "cell_type": "code",
   "execution_count": 116,
   "metadata": {},
   "outputs": [],
   "source": []
  },
  {
   "cell_type": "code",
   "execution_count": null,
   "metadata": {},
   "outputs": [],
   "source": []
  },
  {
   "cell_type": "code",
   "execution_count": 115,
   "metadata": {},
   "outputs": [
    {
     "name": "stdout",
     "output_type": "stream",
     "text": [
      "True\n",
      "False\n",
      "False\n",
      "False\n",
      "True\n",
      "False\n",
      "False\n",
      "False\n",
      "True\n",
      "False\n",
      "False\n",
      "False\n",
      "True\n",
      "False\n",
      "False\n",
      "False\n",
      "True\n",
      "False\n",
      "False\n",
      "False\n",
      "True\n",
      "False\n",
      "False\n",
      "False\n",
      "True\n",
      "False\n",
      "False\n",
      "False\n",
      "True\n",
      "False\n",
      "False\n",
      "False\n",
      "True\n",
      "False\n",
      "False\n",
      "False\n",
      "True\n",
      "False\n",
      "False\n",
      "False\n"
     ]
    },
    {
     "data": {
      "text/plain": [
       "array([['Up', 'Up', 'Up', 'Up', 'Up', '0', '0', '0', '0', '0'],\n",
       "       ['Dn', 'Dn', 'Dn', 'Dn', 'Dn', '0', '0', '0', '0', '0'],\n",
       "       ['Up', 'Up', 'Up', 'Up', 'Up', '0', '0', '0', '0', '0'],\n",
       "       ['Dn', 'Dn', 'Dn', 'Dn', 'Dn', '0', '0', '0', '0', '0']],\n",
       "      dtype='<U2')"
      ]
     },
     "execution_count": 115,
     "metadata": {},
     "output_type": "execute_result"
    }
   ],
   "source": [
    "populate(10,10,10,4)"
   ]
  },
  {
   "cell_type": "code",
   "execution_count": null,
   "metadata": {},
   "outputs": [],
   "source": []
  },
  {
   "cell_type": "code",
   "execution_count": null,
   "metadata": {},
   "outputs": [],
   "source": []
  }
 ],
 "metadata": {
  "kernelspec": {
   "display_name": "Python 3",
   "language": "python",
   "name": "python3"
  },
  "language_info": {
   "codemirror_mode": {
    "name": "ipython",
    "version": 3
   },
   "file_extension": ".py",
   "mimetype": "text/x-python",
   "name": "python",
   "nbconvert_exporter": "python",
   "pygments_lexer": "ipython3",
   "version": "3.8.3"
  }
 },
 "nbformat": 4,
 "nbformat_minor": 4
}
